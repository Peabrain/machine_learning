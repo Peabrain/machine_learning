{
 "cells": [
  {
   "cell_type": "code",
   "execution_count": 1,
   "metadata": {},
   "outputs": [],
   "source": [
    "import torch as T\n",
    "import numpy as np\n",
    "import torch.nn as nn\n",
    "import torch.optim as optim\n",
    "import torch.nn.functional as F\n",
    "from tensorflow.contrib.learn.python.learn.datasets.mnist import extract_images, extract_labels"
   ]
  },
  {
   "cell_type": "code",
   "execution_count": 2,
   "metadata": {},
   "outputs": [],
   "source": [
    "class AI(nn.Module):\n",
    "    def __init__(self,conv_kernel):\n",
    "        super(AI, self).__init__()\n",
    "        self.conv_kernel = conv_kernel\n",
    "        self.lstm_layers = 1\n",
    "        self.lstm_depth = 1000\n",
    "        self.cnn1 = nn.Conv2d(1,self.conv_kernel,5,stride=2,padding=1)\n",
    "        self.cnn2 = nn.Conv2d(self.conv_kernel,self.conv_kernel,3,stride=2,padding=0)\n",
    "        self.rnn = nn.LSTM(6 * 6, self.lstm_depth,self.lstm_layers)\n",
    "        self.fc1 = nn.Linear(self.lstm_depth,self.lstm_depth)\n",
    "        self.fc2 = nn.Linear(self.lstm_depth,10)\n",
    "        self.out = nn.Dropout(0.9)\n",
    "        self.device = T.device('cuda:0' if T.cuda.is_available() else 'cpu')     \n",
    "        self.to(self.device)\n",
    "    def forward(self,x):\n",
    "        hx = T.zeros(self.lstm_layers,self.conv_kernel, self.lstm_depth).to(self.device)\n",
    "        cx = T.zeros(self.lstm_layers,self.conv_kernel, self.lstm_depth).to(self.device)\n",
    "        x = F.relu(self.cnn1(x))\n",
    "        x = F.relu(self.cnn2(x))\n",
    "#        print(x.shape)\n",
    "        x = x.view(-1,self.conv_kernel,6 * 6)\n",
    "        hx, cx = self.rnn(x, (hx, cx))\n",
    "        o = T.tanh(self.fc1(hx))\n",
    "        o = T.sigmoid(self.fc2(o))\n",
    "#        o = self.out(o)\n",
    "        return o"
   ]
  },
  {
   "cell_type": "code",
   "execution_count": 3,
   "metadata": {},
   "outputs": [],
   "source": [
    "class PLAYFIELD():\n",
    "    def __init__(self,width,height):\n",
    "        self.width = width\n",
    "        self.height = height\n",
    "        self.pf = np.zeros((self.width,self.height))\n",
    "    def checkWin():\n",
    "        for y in range(self.height):\n",
    "            count = 0\n",
    "            for x in range(self.width):\n",
    "                if self.pf[y][x] == 1:\n",
    "                    count = count + 1\n",
    "                else:\n",
    "                    count = 0\n",
    "                if count == 3:\n",
    "                    return 1\n",
    "        for x in range(self.height):\n",
    "            count = 0\n",
    "            for y in range(self.width):\n",
    "                if self.pf[y][x] == 1:\n",
    "                    count = count + 1\n",
    "                else:\n",
    "                    count = 0\n",
    "                if count == 3:\n",
    "                    return 1\n",
    "        for x in range(self.height):\n",
    "            count = 0\n",
    "            for y in range(self.width):\n",
    "                if self.pf[y][x] == 1:\n",
    "                    count = count + 1\n",
    "                else:\n",
    "                    count = 0\n",
    "                if count == 3:\n",
    "                    return 1\n",
    "    def setStone(self,x,y,stone):\n",
    "        if self.pf[y][x] == 0:\n",
    "            self.pf[y][x] = stone\n",
    "            return 0\n",
    "        else:\n",
    "            self.pf[y][x] = -1\n",
    "            return -1\n",
    "    def get(self):\n",
    "        return self.pf"
   ]
  },
  {
   "cell_type": "code",
   "execution_count": 4,
   "metadata": {},
   "outputs": [],
   "source": [
    "game = PLAYFIELD(3,3)"
   ]
  },
  {
   "cell_type": "code",
   "execution_count": 5,
   "metadata": {},
   "outputs": [
    {
     "ename": "NameError",
     "evalue": "name 'train_images' is not defined",
     "output_type": "error",
     "traceback": [
      "\u001b[1;31m---------------------------------------------------------------------------\u001b[0m",
      "\u001b[1;31mNameError\u001b[0m                                 Traceback (most recent call last)",
      "\u001b[1;32m<ipython-input-5-85cc8f47926c>\u001b[0m in \u001b[0;36m<module>\u001b[1;34m()\u001b[0m\n\u001b[0;32m     38\u001b[0m             \u001b[0mloss\u001b[0m\u001b[1;33m.\u001b[0m\u001b[0mbackward\u001b[0m\u001b[1;33m(\u001b[0m\u001b[1;33m)\u001b[0m\u001b[1;33m\u001b[0m\u001b[0m\n\u001b[0;32m     39\u001b[0m             \u001b[1;32mreturn\u001b[0m \u001b[0mloss\u001b[0m\u001b[1;33m\u001b[0m\u001b[0m\n\u001b[1;32m---> 40\u001b[1;33m         \u001b[0mloss\u001b[0m \u001b[1;33m=\u001b[0m \u001b[0moptimizer\u001b[0m\u001b[1;33m.\u001b[0m\u001b[0mstep\u001b[0m\u001b[1;33m(\u001b[0m\u001b[0mclosure\u001b[0m\u001b[1;33m)\u001b[0m\u001b[1;33m\u001b[0m\u001b[0m\n\u001b[0m\u001b[0;32m     41\u001b[0m         \u001b[0mlosses\u001b[0m \u001b[1;33m=\u001b[0m \u001b[0mlosses\u001b[0m \u001b[1;33m+\u001b[0m \u001b[0mloss\u001b[0m\u001b[1;33m.\u001b[0m\u001b[0mitem\u001b[0m\u001b[1;33m(\u001b[0m\u001b[1;33m)\u001b[0m\u001b[1;33m\u001b[0m\u001b[0m\n\u001b[0;32m     42\u001b[0m         \u001b[1;32mif\u001b[0m \u001b[1;33m(\u001b[0m\u001b[0mi\u001b[0m \u001b[1;33m%\u001b[0m \u001b[1;36m100\u001b[0m\u001b[1;33m)\u001b[0m \u001b[1;33m==\u001b[0m \u001b[1;36m0\u001b[0m\u001b[1;33m:\u001b[0m\u001b[1;33m\u001b[0m\u001b[0m\n",
      "\u001b[1;32mc:\\program files\\python36\\lib\\site-packages\\torch\\optim\\rmsprop.py\u001b[0m in \u001b[0;36mstep\u001b[1;34m(self, closure)\u001b[0m\n\u001b[0;32m     56\u001b[0m         \u001b[0mloss\u001b[0m \u001b[1;33m=\u001b[0m \u001b[1;32mNone\u001b[0m\u001b[1;33m\u001b[0m\u001b[0m\n\u001b[0;32m     57\u001b[0m         \u001b[1;32mif\u001b[0m \u001b[0mclosure\u001b[0m \u001b[1;32mis\u001b[0m \u001b[1;32mnot\u001b[0m \u001b[1;32mNone\u001b[0m\u001b[1;33m:\u001b[0m\u001b[1;33m\u001b[0m\u001b[0m\n\u001b[1;32m---> 58\u001b[1;33m             \u001b[0mloss\u001b[0m \u001b[1;33m=\u001b[0m \u001b[0mclosure\u001b[0m\u001b[1;33m(\u001b[0m\u001b[1;33m)\u001b[0m\u001b[1;33m\u001b[0m\u001b[0m\n\u001b[0m\u001b[0;32m     59\u001b[0m \u001b[1;33m\u001b[0m\u001b[0m\n\u001b[0;32m     60\u001b[0m         \u001b[1;32mfor\u001b[0m \u001b[0mgroup\u001b[0m \u001b[1;32min\u001b[0m \u001b[0mself\u001b[0m\u001b[1;33m.\u001b[0m\u001b[0mparam_groups\u001b[0m\u001b[1;33m:\u001b[0m\u001b[1;33m\u001b[0m\u001b[0m\n",
      "\u001b[1;32m<ipython-input-5-85cc8f47926c>\u001b[0m in \u001b[0;36mclosure\u001b[1;34m()\u001b[0m\n\u001b[0;32m     14\u001b[0m         \u001b[1;32mdef\u001b[0m \u001b[0mclosure\u001b[0m\u001b[1;33m(\u001b[0m\u001b[1;33m)\u001b[0m\u001b[1;33m:\u001b[0m\u001b[1;33m\u001b[0m\u001b[0m\n\u001b[0;32m     15\u001b[0m             \u001b[0moptimizer\u001b[0m\u001b[1;33m.\u001b[0m\u001b[0mzero_grad\u001b[0m\u001b[1;33m(\u001b[0m\u001b[1;33m)\u001b[0m\u001b[1;33m\u001b[0m\u001b[0m\n\u001b[1;32m---> 16\u001b[1;33m             \u001b[0minp1\u001b[0m \u001b[1;33m=\u001b[0m \u001b[0mtrain_images\u001b[0m\u001b[1;33m[\u001b[0m\u001b[0mi\u001b[0m\u001b[1;33m]\u001b[0m\u001b[1;31m#inp[i % max_mem].copy() + np.random.randn(1, a, 28) * 0.1\u001b[0m\u001b[1;33m\u001b[0m\u001b[0m\n\u001b[0m\u001b[0;32m     17\u001b[0m             \u001b[0minp1\u001b[0m\u001b[1;33m.\u001b[0m\u001b[0mshape\u001b[0m \u001b[1;33m=\u001b[0m \u001b[1;33m(\u001b[0m\u001b[1;36m1\u001b[0m\u001b[1;33m,\u001b[0m\u001b[1;36m1\u001b[0m\u001b[1;33m,\u001b[0m\u001b[1;36m28\u001b[0m\u001b[1;33m,\u001b[0m\u001b[1;36m28\u001b[0m\u001b[1;33m)\u001b[0m\u001b[1;33m\u001b[0m\u001b[0m\n\u001b[0;32m     18\u001b[0m             \u001b[0minp1\u001b[0m \u001b[1;33m=\u001b[0m \u001b[0mT\u001b[0m\u001b[1;33m.\u001b[0m\u001b[0mfrom_numpy\u001b[0m\u001b[1;33m(\u001b[0m\u001b[0minp1\u001b[0m\u001b[1;33m)\u001b[0m\u001b[1;33m.\u001b[0m\u001b[0mfloat\u001b[0m\u001b[1;33m(\u001b[0m\u001b[1;33m)\u001b[0m\u001b[1;33m.\u001b[0m\u001b[0mto\u001b[0m\u001b[1;33m(\u001b[0m\u001b[0mai\u001b[0m\u001b[1;33m.\u001b[0m\u001b[0mdevice\u001b[0m\u001b[1;33m)\u001b[0m\u001b[1;33m\u001b[0m\u001b[0m\n",
      "\u001b[1;31mNameError\u001b[0m: name 'train_images' is not defined"
     ]
    }
   ],
   "source": [
    "ai_conv_kernel = 128\n",
    "ai = AI(ai_conv_kernel)\n",
    "\n",
    "max_mem = 1000\n",
    "    \n",
    "criterion = nn.MSELoss()#SmoothL1Loss()MSELoss\n",
    "optimizer = optim.RMSprop(ai.parameters(), lr=0.00005)\n",
    "\n",
    "losses = 0\n",
    "mul = np.ones([1,28,10])\n",
    "mul = T.from_numpy(mul).to(ai.device)\n",
    "for j in range(1):\n",
    "    for i in range(60000):#train_images.shape[0]):\n",
    "        def closure():\n",
    "            optimizer.zero_grad()\n",
    "            inp1 = train_images[i]#inp[i % max_mem].copy() + np.random.randn(1, a, 28) * 0.1\n",
    "            inp1.shape = (1,1,28,28)\n",
    "            inp1 = T.from_numpy(inp1).float().to(ai.device)\n",
    "            out = ai(inp1)\n",
    "    #        print(out)\n",
    "    #        print(target)\n",
    "            target = out.cpu().detach().numpy().copy()\n",
    "#            print(target.shape)\n",
    "#            target[0][8 - 1] = np.zeros(10)\n",
    "#            target[0][8 - 1][train_labels[i]] = 1.0\n",
    "\n",
    "#            target[0] = np.zeros([1,8,10])\n",
    "            n = np.zeros(10)\n",
    "            n[train_labels[i]] = 1.0\n",
    "            for o in range(ai_conv_kernel):\n",
    "                oo = (o + 1) / ai_conv_kernel\n",
    "                oo = oo * oo\n",
    "                target[0][o] = oo * n + (1.0 - oo) * target[0][o]\n",
    "#            target[0][8 - 1][train_labels[i]] = 1.0\n",
    "#            print(target)\n",
    "            target = T.from_numpy(np.array(target)).to(ai.device)\n",
    "            loss = criterion(out, target.float())\n",
    "            loss.backward()\n",
    "            return loss\n",
    "        loss = optimizer.step(closure)\n",
    "        losses = losses + loss.item()\n",
    "        if (i % 100) == 0:\n",
    "            print('Step: ' + str(i) + ' loss: ' + str(losses / 100))\n",
    "            losses = 0"
   ]
  },
  {
   "cell_type": "code",
   "execution_count": null,
   "metadata": {},
   "outputs": [],
   "source": [
    "count = 0\n",
    "for i in range(10000):#train_images.shape[0]):\n",
    "    optimizer.zero_grad()\n",
    "    inp1 = test_images[i]#inp[i % max_mem].copy()\n",
    "    inp1.shape = (1,1,28,28)\n",
    "    inp1 = T.from_numpy(inp1).float().to(ai.device)\n",
    "    out = ai(inp1).cpu().detach().numpy()\n",
    "    m = np.argmax(out[0][5 - 1])\n",
    "    if m == test_labels[i]:\n",
    "#        print(m)\n",
    "        count = count + 1\n",
    "print(\"correct: \" + str(count / 10000))#train_images.shape[0]))"
   ]
  }
 ],
 "metadata": {
  "kernelspec": {
   "display_name": "Python 3",
   "language": "python",
   "name": "python3"
  },
  "language_info": {
   "codemirror_mode": {
    "name": "ipython",
    "version": 3
   },
   "file_extension": ".py",
   "mimetype": "text/x-python",
   "name": "python",
   "nbconvert_exporter": "python",
   "pygments_lexer": "ipython3",
   "version": "3.6.1"
  }
 },
 "nbformat": 4,
 "nbformat_minor": 2
}
